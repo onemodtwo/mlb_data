{
 "cells": [
  {
   "cell_type": "code",
   "execution_count": null,
   "metadata": {},
   "outputs": [],
   "source": [
    "from bs4 import BeautifulSoup as bs\n",
    "from urllib.request import urlopen\n",
    "from db_utils import connect\n",
    "import pandas as pd\n",
    "from mlb_player_data_utils import upload_stats, upload_directory, close_con\n",
    "pd.options.display.max_columns = None\n",
    "pd.options.display.max_rows = None"
   ]
  },
  {
   "cell_type": "code",
   "execution_count": null,
   "metadata": {},
   "outputs": [],
   "source": [
    "conn = connect('mlb_msmc')\n",
    "query = \"SELECT game_id,local_game_time FROM games_raw WHERE (game_type = 'R');\"\n",
    "games_df = pd.read_sql(query, conn)\n",
    "conn.close()\n",
    "games_df.sort_values(by='game_id', inplace=True)\n",
    "games_df.reset_index(inplace=True)"
   ]
  },
  {
   "cell_type": "code",
   "execution_count": null,
   "metadata": {},
   "outputs": [],
   "source": [
    "base_url = \"http://gd2.mlb.com/components/game/mlb/\"\n",
    "stat_dfs = {'pitchers': [], 'batters': []}\n",
    "players_seen, directory_dicts = [], []\n",
    "game_count = 0"
   ]
  },
  {
   "cell_type": "code",
   "execution_count": null,
   "metadata": {
    "scrolled": false
   },
   "outputs": [],
   "source": [
    "print('{} games to be processed.\\n'.format(len(games_df)))\n",
    "with open('logs/error.log', 'a') as f_err:\n",
    "    for game in games_df.itertuples(index=False, name='Games'):\n",
    "        active_date = game[2]\n",
    "        day_url = '{}year_{}/month_{:02}/day_{:02}/'.format(base_url, active_date.year,\n",
    "                                                            active_date.month, active_date.day)\n",
    "        game_url = day_url + 'gid_' + game[1] + '/'\n",
    "        try:\n",
    "            box = bs(urlopen(game_url + 'boxscore.xml'), 'lxml')\n",
    "        except:\n",
    "            f_err.write('Error opening {}\\n'.format(game_url + 'boxscore.xml'))\n",
    "            continue\n",
    "\n",
    "        players = {}\n",
    "        players['pitchers'] = [pitcher['id'] for pitcher in box.find_all('pitcher')]\n",
    "        players['batters'] = [batter['id'] for batter in box.find_all('batter')]\n",
    "        player_dicts = {'pitchers': [], 'batters': []}\n",
    "\n",
    "        for p_type in ['pitchers', 'batters']:\n",
    "            for player in players[p_type]:\n",
    "                player_url = game_url + p_type + '/' + player + '.xml'\n",
    "                try:\n",
    "                    stats = bs(urlopen(player_url), 'lxml').player\n",
    "                except:\n",
    "                    f_err.write('Error opening {}\\n'.format(player_url))\n",
    "                    continue\n",
    "                if stats.attrs['id'] not in players_seen:\n",
    "                    player_dir = stats.attrs\n",
    "                    for k in ['team', 'jersey_number']:\n",
    "                        player_dir.pop(k, None)\n",
    "                    player_dir['height'] = (12 * int(player_dir['height'].split('-')[0]) +\n",
    "                                                 int(player_dir['height'].split('-')[1]))\n",
    "                    players_seen.append(player_dir['id'])\n",
    "                    directory_dicts.append(player_dir)\n",
    "                stat_cats = {child.name: child.attrs for child in stats.children}\n",
    "                for k in ['atbats', 'faced', 'pitch', 'vs_p', 'vs_p5', 'vs_b', 'vs_b5']:\n",
    "                    stat_cats.pop(k, None)\n",
    "                flattened_stats = {cat + '_' + stat: stat_cats[cat][stat]\n",
    "                                   for cat in stat_cats for stat in stat_cats[cat]}\n",
    "                flattened_stats['game_id'] = game[1]\n",
    "                flattened_stats['player_id'] = stats.attrs['id']\n",
    "                player_dicts[p_type].append(flattened_stats)\n",
    "            stat_dfs[p_type].append(pd.DataFrame(player_dicts[p_type]))\n",
    "                \n",
    "        game_count += 1\n",
    "        if game_count % 100 == 0:\n",
    "            upload_stats(stat_dfs)\n",
    "            stat_dfs = {'pitchers': [], 'batters': []}\n",
    "            print('{} games processed and written.'.format(game_count))\n",
    "                    \n",
    "upload_stats(stat_dfs)\n",
    "print('{} games processed and written.\\n'.format(game_count))\n",
    "upload_directory(directory_dicts)\n",
    "print('Player directory processed and written.\\nAll done.')\n",
    "close_con()"
   ]
  },
  {
   "cell_type": "code",
   "execution_count": null,
   "metadata": {},
   "outputs": [],
   "source": []
  }
 ],
 "metadata": {
  "kernelspec": {
   "display_name": "Python 3",
   "language": "python",
   "name": "python3"
  },
  "language_info": {
   "codemirror_mode": {
    "name": "ipython",
    "version": 3
   },
   "file_extension": ".py",
   "mimetype": "text/x-python",
   "name": "python",
   "nbconvert_exporter": "python",
   "pygments_lexer": "ipython3",
   "version": "3.6.5"
  }
 },
 "nbformat": 4,
 "nbformat_minor": 2
}
