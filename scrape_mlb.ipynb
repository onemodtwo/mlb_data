{
 "cells": [
  {
   "cell_type": "code",
   "execution_count": null,
   "metadata": {},
   "outputs": [],
   "source": [
    "from bs4 import BeautifulSoup\n",
    "from urllib.request import urlopen\n",
    "import datetime\n",
    "import pandas as pd\n",
    "from mlb_data_utils import get_game_dict, get_ab_pitches, finish_up, close_con"
   ]
  },
  {
   "cell_type": "code",
   "execution_count": null,
   "metadata": {},
   "outputs": [],
   "source": [
    "start_year, start_month, start_day = 2015, 2, 15\n",
    "end_year, end_month, end_day = 2016, 11, 15\n",
    "start_date = datetime.date(start_year, start_month, start_day)\n",
    "end_date = datetime.date(end_year, end_month, end_day)\n",
    "delta = end_date - start_date"
   ]
  },
  {
   "cell_type": "code",
   "execution_count": null,
   "metadata": {},
   "outputs": [],
   "source": [
    "base_url = \"http://gd2.mlb.com/components/game/mlb/\"\n",
    "game_dicts, ab_dfs, p_dfs, retro_fixes = [], [], [], []\n",
    "game_count = 0"
   ]
  },
  {
   "cell_type": "code",
   "execution_count": null,
   "metadata": {},
   "outputs": [],
   "source": [
    "with open('logs/error.log', 'a') as f_err:\n",
    "    for i in range(delta.days + 1):\n",
    "        active_date = (start_date + datetime.timedelta(days=i))\n",
    "        day_url = '{}year_{}/month_{:02}/day_{:02}/'.format(base_url, active_date.year,\n",
    "                                                            active_date.month, active_date.day)\n",
    "        games_url = day_url + 'miniscoreboard.xml'\n",
    "        try:\n",
    "            game_soup = BeautifulSoup(urlopen(games_url), 'lxml').games\n",
    "        except:\n",
    "            f_err.write('Error opening {}\\n'.format(games_url))\n",
    "            continue\n",
    "        if len(game_soup):\n",
    "            for game in game_soup.find_all('game'):\n",
    "                game_id = game.attrs['gameday_link']\n",
    "                if game.attrs['home_sport_code'] != game.attrs['away_sport_code']:\n",
    "                    continue\n",
    "                inning_url = day_url + 'gid_' + game_id + '/inning/inning_all.xml'\n",
    "                try:\n",
    "                    innings = BeautifulSoup(urlopen(inning_url), 'lxml').game.find_all('inning')\n",
    "                except:\n",
    "                    f_err.write('Error opening {}\\n'.format(inning_url))\n",
    "                    continue\n",
    "                try:\n",
    "                    innings[0].find('atbat').find('pitch')\n",
    "                except:\n",
    "                    f_err.write('No AB or pitch info in {}\\n'.format(inning_url))\n",
    "                    continue\n",
    "                game_url = day_url + 'gid_' + game_id + '/game.xml'\n",
    "                try:\n",
    "                    game_info = BeautifulSoup(urlopen(game_url), 'lxml')\n",
    "                except:\n",
    "                    f_err.write('Error opening {}\\n'.format(game_url))\n",
    "                    game_info = None\n",
    "                game_number = int(game_id[-1]) - 1\n",
    "                if game_number:  # digit on end of link was 2 and is now 1\n",
    "                    game_number += 1  # set number back to 2\n",
    "                    retro_fixes.append(game_id[:-1] + '1')\n",
    "                    # store the game id for a first game that needs its retro game\n",
    "                    # id changed so that the last character can later be changed\n",
    "                    # from 0 to 1\n",
    "                game_dict = get_game_dict(game_info, game_id)\n",
    "                game_dict['retro_game_id'] = '{}{}{:02}{:02}{}'.format(game_dict['home_team_id'].upper(),\n",
    "                                                                       active_date.year,\n",
    "                                                                       active_date.month,\n",
    "                                                                       active_date.day,\n",
    "                                                                       game_number)\n",
    "                game_dicts.append(game_dict)\n",
    "                game_abs, game_pitches = get_ab_pitches(innings, game_id)\n",
    "                ab_dfs += game_abs\n",
    "                p_dfs += game_pitches\n",
    "                game_count += 1\n",
    "                if game_count % 100 == 0:\n",
    "                    finish_up(ab_dfs, p_dfs, game_dicts, retro_fixes)\n",
    "                    game_dicts, ab_dfs, p_dfs, retro_fixes = [], [], [], []\n",
    "                    print('{} games processed and written'.format(game_count))\n",
    "                    \n",
    "finish_up(ab_dfs, p_dfs, game_dicts, retro_fixes)\n",
    "print('{} games processed and written\\n'.format(game_count))\n",
    "close_con()\n"
   ]
  },
  {
   "cell_type": "code",
   "execution_count": null,
   "metadata": {},
   "outputs": [],
   "source": []
  }
 ],
 "metadata": {
  "kernelspec": {
   "display_name": "Python 3",
   "language": "python",
   "name": "python3"
  },
  "language_info": {
   "codemirror_mode": {
    "name": "ipython",
    "version": 3
   },
   "file_extension": ".py",
   "mimetype": "text/x-python",
   "name": "python",
   "nbconvert_exporter": "python",
   "pygments_lexer": "ipython3",
   "version": "3.5.5"
  }
 },
 "nbformat": 4,
 "nbformat_minor": 2
}
