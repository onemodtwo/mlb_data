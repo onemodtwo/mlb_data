{
 "cells": [
  {
   "cell_type": "code",
   "execution_count": 1,
   "metadata": {},
   "outputs": [
    {
     "name": "stdout",
     "output_type": "stream",
     "text": [
      "Connecting to the PostgreSQL database...\n",
      "PostgreSQL database version:\n",
      "('PostgreSQL 9.6.6 on x86_64-pc-linux-gnu, compiled by gcc (Debian 4.7.2-5) 4.7.2, 64-bit',)\n"
     ]
    }
   ],
   "source": [
    "from bs4 import BeautifulSoup\n",
    "from urllib.request import urlopen\n",
    "import datetime\n",
    "import pandas as pd\n",
    "from mlb_data_utils import get_game_dict, get_ab_pitches, finish_up, close_con"
   ]
  },
  {
   "cell_type": "code",
   "execution_count": 2,
   "metadata": {},
   "outputs": [],
   "source": [
    "start_year, start_month, start_day = 2015, 2, 15\n",
    "end_year, end_month, end_day = 2016, 11, 15\n",
    "start_date = datetime.date(start_year, start_month, start_day)\n",
    "end_date = datetime.date(end_year, end_month, end_day)\n",
    "delta = end_date - start_date"
   ]
  },
  {
   "cell_type": "code",
   "execution_count": 3,
   "metadata": {},
   "outputs": [],
   "source": [
    "base_url = \"http://gd2.mlb.com/components/game/mlb/\"\n",
    "game_dicts, ab_dfs, p_dfs, retro_fixes = [], [], [], []\n",
    "game_count = 0"
   ]
  },
  {
   "cell_type": "code",
   "execution_count": 4,
   "metadata": {},
   "outputs": [
    {
     "name": "stdout",
     "output_type": "stream",
     "text": [
      "100 games processed and written\n",
      "200 games processed and written\n",
      "300 games processed and written\n",
      "400 games processed and written\n",
      "500 games processed and written\n",
      "600 games processed and written\n",
      "700 games processed and written\n",
      "800 games processed and written\n",
      "900 games processed and written\n",
      "1000 games processed and written\n",
      "1100 games processed and written\n",
      "1200 games processed and written\n",
      "1300 games processed and written\n",
      "1400 games processed and written\n",
      "1500 games processed and written\n",
      "1600 games processed and written\n",
      "1700 games processed and written\n",
      "1800 games processed and written\n",
      "1900 games processed and written\n",
      "2000 games processed and written\n",
      "2100 games processed and written\n",
      "2200 games processed and written\n",
      "2300 games processed and written\n",
      "2400 games processed and written\n",
      "2500 games processed and written\n",
      "2600 games processed and written\n",
      "2700 games processed and written\n",
      "2800 games processed and written\n",
      "2900 games processed and written\n",
      "3000 games processed and written\n",
      "3100 games processed and written\n",
      "3200 games processed and written\n",
      "3300 games processed and written\n",
      "3400 games processed and written\n",
      "3500 games processed and written\n",
      "3600 games processed and written\n",
      "3700 games processed and written\n",
      "3800 games processed and written\n",
      "3900 games processed and written\n",
      "4000 games processed and written\n",
      "4100 games processed and written\n",
      "4200 games processed and written\n",
      "4300 games processed and written\n",
      "4400 games processed and written\n",
      "4500 games processed and written\n",
      "4600 games processed and written\n",
      "4700 games processed and written\n",
      "4800 games processed and written\n",
      "4900 games processed and written\n",
      "5000 games processed and written\n",
      "5100 games processed and written\n",
      "5200 games processed and written\n",
      "5300 games processed and written\n",
      "5400 games processed and written\n",
      "5500 games processed and written\n",
      "5600 games processed and written\n",
      "5700 games processed and written\n",
      "5800 games processed and written\n",
      "5896 games processed and written\n",
      "\n"
     ]
    }
   ],
   "source": [
    "with open('error_messages.txt', 'w') as f_err:\n",
    "    for i in range(delta.days + 1):\n",
    "        active_date = (start_date + datetime.timedelta(days=i))\n",
    "        day_url = '{}year_{}/month_{:02}/day_{:02}/'.format(base_url, active_date.year,\n",
    "                                                            active_date.month, active_date.day)\n",
    "        games_url = day_url + 'miniscoreboard.xml'\n",
    "        try:\n",
    "            game_soup = BeautifulSoup(urlopen(games_url), 'lxml').games\n",
    "        except:\n",
    "            f_err.write('Error opening {}\\n'.format(games_url))\n",
    "            continue\n",
    "        if len(game_soup):\n",
    "            for game in game_soup.find_all('game'):\n",
    "                game_id = game.attrs['gameday_link']\n",
    "                if game.attrs['home_sport_code'] != game.attrs['away_sport_code']:\n",
    "                    continue\n",
    "                inning_url = day_url + 'gid_' + game_id + '/inning/inning_all.xml'\n",
    "                try:\n",
    "                    innings = BeautifulSoup(urlopen(inning_url), 'lxml').game.find_all('inning')\n",
    "                except:\n",
    "                    f_err.write('Error opening {}\\n'.format(inning_url))\n",
    "                    continue\n",
    "                try:\n",
    "                    innings[0].find('atbat').find('pitch')\n",
    "                except:\n",
    "                    f_err.write('No AB or pitch info in {}\\n'.format(inning_url))\n",
    "                    continue\n",
    "                game_url = day_url + 'gid_' + game_id + '/game.xml'\n",
    "                try:\n",
    "                    game_info = BeautifulSoup(urlopen(game_url), 'lxml')\n",
    "                except:\n",
    "                    f_err.write('Error opening {}\\n'.format(game_url))\n",
    "                    game_info = None\n",
    "                game_number = int(game_id[-1]) - 1\n",
    "                if game_number:  # digit on end of link was 2 and is now 1\n",
    "                    game_number += 1  # set number back to 2\n",
    "                    retro_fixes.append(game_id[:-1] + '1')\n",
    "                    # store the game id for a first game that needs its retro game\n",
    "                    # id changed so that the last character can later be changed\n",
    "                    # from 0 to 1\n",
    "                game_dict = get_game_dict(game_info, game_id)\n",
    "                game_dict['retro_game_id'] = '{}{}{:02}{:02}{}'.format(game_dict['home_team_id'].upper(),\n",
    "                                                                       active_date.year,\n",
    "                                                                       active_date.month,\n",
    "                                                                       active_date.day,\n",
    "                                                                       game_number)\n",
    "                game_dicts.append(game_dict)\n",
    "                game_abs, game_pitches = get_ab_pitches(innings, game_id)\n",
    "                ab_dfs += game_abs\n",
    "                p_dfs += game_pitches\n",
    "                game_count += 1\n",
    "                if game_count % 100 == 0:\n",
    "                    finish_up(ab_dfs, p_dfs, game_dicts, retro_fixes)\n",
    "                    game_dicts, ab_dfs, p_dfs, retro_fixes = [], [], [], []\n",
    "                    print('{} games processed and written'.format(game_count))\n",
    "                    \n",
    "finish_up(ab_dfs, p_dfs, game_dicts, retro_fixes)\n",
    "print('{} games processed and written\\n'.format(game_count))\n",
    "close_con()\n"
   ]
  },
  {
   "cell_type": "code",
   "execution_count": null,
   "metadata": {},
   "outputs": [],
   "source": []
  }
 ],
 "metadata": {
  "kernelspec": {
   "display_name": "Python 3",
   "language": "python",
   "name": "python3"
  },
  "language_info": {
   "codemirror_mode": {
    "name": "ipython",
    "version": 3
   },
   "file_extension": ".py",
   "mimetype": "text/x-python",
   "name": "python",
   "nbconvert_exporter": "python",
   "pygments_lexer": "ipython3",
   "version": "3.6.5"
  }
 },
 "nbformat": 4,
 "nbformat_minor": 2
}
